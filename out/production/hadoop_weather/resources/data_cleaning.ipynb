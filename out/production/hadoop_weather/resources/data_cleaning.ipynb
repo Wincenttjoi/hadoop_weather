{
 "cells": [
  {
   "cell_type": "code",
   "execution_count": 3,
   "metadata": {
    "collapsed": true
   },
   "outputs": [],
   "source": [
    "import pandas as pd"
   ]
  },
  {
   "cell_type": "code",
   "execution_count": 4,
   "outputs": [],
   "source": [
    "arb = pd.read_csv(\"./raw_data/ARB.csv\")"
   ],
   "metadata": {
    "collapsed": false,
    "pycharm": {
     "name": "#%%\n"
    }
   }
  },
  {
   "cell_type": "code",
   "execution_count": 7,
   "outputs": [
    {
     "data": {
      "text/plain": "  station             valid  elevation  tmpc   relh    drct   sped\n0     ARB  2012-01-01 00:53      251.0  3.30  85.49  190.00   6.90\n1     ARB  2012-01-01 01:53      251.0  2.80  88.57  190.00   8.05\n2     ARB  2012-01-01 02:53      251.0  3.30  85.49  190.00  10.35\n3     ARB  2012-01-01 03:48      251.0  3.00  93.14  190.00  10.35\n4     ARB  2012-01-01 03:53      251.0  3.30  89.25  200.00  12.65",
      "text/html": "<div>\n<style scoped>\n    .dataframe tbody tr th:only-of-type {\n        vertical-align: middle;\n    }\n\n    .dataframe tbody tr th {\n        vertical-align: top;\n    }\n\n    .dataframe thead th {\n        text-align: right;\n    }\n</style>\n<table border=\"1\" class=\"dataframe\">\n  <thead>\n    <tr style=\"text-align: right;\">\n      <th></th>\n      <th>station</th>\n      <th>valid</th>\n      <th>elevation</th>\n      <th>tmpc</th>\n      <th>relh</th>\n      <th>drct</th>\n      <th>sped</th>\n    </tr>\n  </thead>\n  <tbody>\n    <tr>\n      <th>0</th>\n      <td>ARB</td>\n      <td>2012-01-01 00:53</td>\n      <td>251.0</td>\n      <td>3.30</td>\n      <td>85.49</td>\n      <td>190.00</td>\n      <td>6.90</td>\n    </tr>\n    <tr>\n      <th>1</th>\n      <td>ARB</td>\n      <td>2012-01-01 01:53</td>\n      <td>251.0</td>\n      <td>2.80</td>\n      <td>88.57</td>\n      <td>190.00</td>\n      <td>8.05</td>\n    </tr>\n    <tr>\n      <th>2</th>\n      <td>ARB</td>\n      <td>2012-01-01 02:53</td>\n      <td>251.0</td>\n      <td>3.30</td>\n      <td>85.49</td>\n      <td>190.00</td>\n      <td>10.35</td>\n    </tr>\n    <tr>\n      <th>3</th>\n      <td>ARB</td>\n      <td>2012-01-01 03:48</td>\n      <td>251.0</td>\n      <td>3.00</td>\n      <td>93.14</td>\n      <td>190.00</td>\n      <td>10.35</td>\n    </tr>\n    <tr>\n      <th>4</th>\n      <td>ARB</td>\n      <td>2012-01-01 03:53</td>\n      <td>251.0</td>\n      <td>3.30</td>\n      <td>89.25</td>\n      <td>200.00</td>\n      <td>12.65</td>\n    </tr>\n  </tbody>\n</table>\n</div>"
     },
     "execution_count": 7,
     "metadata": {},
     "output_type": "execute_result"
    }
   ],
   "source": [
    "arb.head()"
   ],
   "metadata": {
    "collapsed": false,
    "pycharm": {
     "name": "#%%\n"
    }
   }
  },
  {
   "cell_type": "code",
   "execution_count": 11,
   "outputs": [],
   "source": [
    "arb[\"valid\"] = arb[\"valid\"].apply(lambda x : x[:10])"
   ],
   "metadata": {
    "collapsed": false,
    "pycharm": {
     "name": "#%%\n"
    }
   }
  },
  {
   "cell_type": "code",
   "execution_count": 12,
   "outputs": [
    {
     "data": {
      "text/plain": "DatetimeIndex(['2014-09-07', '2018-07-27', '2018-07-29', '2019-10-06',\n               '2022-01-01'],\n              dtype='datetime64[ns]', freq=None)"
     },
     "execution_count": 12,
     "metadata": {},
     "output_type": "execute_result"
    }
   ],
   "source": [
    "pd.date_range(start = '2012-01-01', end = '2022-01-01' ).difference(arb[\"valid\"])"
   ],
   "metadata": {
    "collapsed": false,
    "pycharm": {
     "name": "#%%\n"
    }
   }
  },
  {
   "cell_type": "code",
   "execution_count": 21,
   "outputs": [
    {
     "data": {
      "text/plain": "['WMKA.csv',\n 'ARB.csv',\n 'MDW.csv',\n 'WMSA.csv',\n 'MIA.csv',\n 'SEA.csv',\n 'ZBAA.csv',\n 'ZGGG.csv',\n 'WSSS.csv',\n 'YSSY.csv',\n 'YMML.csv',\n 'MBO.csv',\n 'NYC.csv',\n 'PHX.csv',\n 'CQT.csv',\n 'BOS.csv']"
     },
     "execution_count": 21,
     "metadata": {},
     "output_type": "execute_result"
    }
   ],
   "source": [
    "# Find missing dates in datasets\n",
    "import os\n",
    "\n",
    "filepath = \"./raw_data/\"\n",
    "files = [f for f in os.listdir(filepath) if os.path.isfile(filepath + f)]\n",
    "files"
   ],
   "metadata": {
    "collapsed": false,
    "pycharm": {
     "name": "#%%\n"
    }
   }
  },
  {
   "cell_type": "code",
   "execution_count": 28,
   "outputs": [
    {
     "name": "stdout",
     "output_type": "stream",
     "text": [
      "Checking WMKA.csv\n",
      "WMKA.csv: no missing data\n",
      "Checking ARB.csv\n"
     ]
    },
    {
     "ename": "KeyboardInterrupt",
     "evalue": "",
     "output_type": "error",
     "traceback": [
      "\u001B[0;31m---------------------------------------------------------------------------\u001B[0m",
      "\u001B[0;31mAttributeError\u001B[0m                            Traceback (most recent call last)",
      "File \u001B[0;32mpandas/_libs/tslibs/period.pyx:1474\u001B[0m, in \u001B[0;36mpandas._libs.tslibs.period.extract_ordinals\u001B[0;34m()\u001B[0m\n",
      "\u001B[0;31mAttributeError\u001B[0m: 'str' object has no attribute 'ordinal'",
      "\nDuring handling of the above exception, another exception occurred:\n",
      "\u001B[0;31mKeyboardInterrupt\u001B[0m                         Traceback (most recent call last)",
      "Input \u001B[0;32mIn [28]\u001B[0m, in \u001B[0;36m<cell line: 1>\u001B[0;34m()\u001B[0m\n\u001B[1;32m      3\u001B[0m df \u001B[38;5;241m=\u001B[39m pd\u001B[38;5;241m.\u001B[39mread_csv(filepath \u001B[38;5;241m+\u001B[39m file)\n\u001B[1;32m      4\u001B[0m df[\u001B[38;5;124m\"\u001B[39m\u001B[38;5;124mvalid\u001B[39m\u001B[38;5;124m\"\u001B[39m] \u001B[38;5;241m=\u001B[39m df[\u001B[38;5;124m\"\u001B[39m\u001B[38;5;124mvalid\u001B[39m\u001B[38;5;124m\"\u001B[39m]\u001B[38;5;241m.\u001B[39mapply(\u001B[38;5;28;01mlambda\u001B[39;00m x : x[:\u001B[38;5;241m10\u001B[39m])\n\u001B[0;32m----> 5\u001B[0m missing_dates \u001B[38;5;241m=\u001B[39m \u001B[43mpd\u001B[49m\u001B[38;5;241;43m.\u001B[39;49m\u001B[43mperiod_range\u001B[49m\u001B[43m(\u001B[49m\u001B[43mstart\u001B[49m\u001B[38;5;241;43m=\u001B[39;49m\u001B[38;5;124;43m'\u001B[39;49m\u001B[38;5;124;43m2012-01\u001B[39;49m\u001B[38;5;124;43m'\u001B[39;49m\u001B[43m,\u001B[49m\u001B[43m \u001B[49m\u001B[43mend\u001B[49m\u001B[38;5;241;43m=\u001B[39;49m\u001B[38;5;124;43m'\u001B[39;49m\u001B[38;5;124;43m2021-12\u001B[39;49m\u001B[38;5;124;43m'\u001B[39;49m\u001B[43m,\u001B[49m\u001B[43m \u001B[49m\u001B[43mfreq\u001B[49m\u001B[38;5;241;43m=\u001B[39;49m\u001B[38;5;124;43m'\u001B[39;49m\u001B[38;5;124;43mM\u001B[39;49m\u001B[38;5;124;43m'\u001B[39;49m\u001B[43m)\u001B[49m\u001B[38;5;241;43m.\u001B[39;49m\u001B[43mdifference\u001B[49m\u001B[43m(\u001B[49m\u001B[43mdf\u001B[49m\u001B[43m[\u001B[49m\u001B[38;5;124;43m\"\u001B[39;49m\u001B[38;5;124;43mvalid\u001B[39;49m\u001B[38;5;124;43m\"\u001B[39;49m\u001B[43m]\u001B[49m\u001B[43m)\u001B[49m\n\u001B[1;32m      7\u001B[0m \u001B[38;5;28;01mif\u001B[39;00m missing_dates\u001B[38;5;241m.\u001B[39msize \u001B[38;5;241m>\u001B[39m \u001B[38;5;241m0\u001B[39m:\n\u001B[1;32m      8\u001B[0m     \u001B[38;5;28mprint\u001B[39m(file \u001B[38;5;241m+\u001B[39m \u001B[38;5;124m\"\u001B[39m\u001B[38;5;124m:\u001B[39m\u001B[38;5;124m\"\u001B[39m, missing_dates\u001B[38;5;241m.\u001B[39mvalues)\n",
      "File \u001B[0;32m/usr/local/lib/python3.9/site-packages/pandas/core/indexes/base.py:3448\u001B[0m, in \u001B[0;36mIndex.difference\u001B[0;34m(self, other, sort)\u001B[0m\n\u001B[1;32m   3444\u001B[0m \u001B[38;5;28;01mif\u001B[39;00m \u001B[38;5;129;01mnot\u001B[39;00m \u001B[38;5;28mself\u001B[39m\u001B[38;5;241m.\u001B[39m_should_compare(other):\n\u001B[1;32m   3445\u001B[0m     \u001B[38;5;66;03m# Nothing matches -> difference is everything\u001B[39;00m\n\u001B[1;32m   3446\u001B[0m     \u001B[38;5;28;01mreturn\u001B[39;00m \u001B[38;5;28mself\u001B[39m\u001B[38;5;241m.\u001B[39mrename(result_name)\n\u001B[0;32m-> 3448\u001B[0m result \u001B[38;5;241m=\u001B[39m \u001B[38;5;28;43mself\u001B[39;49m\u001B[38;5;241;43m.\u001B[39;49m\u001B[43m_difference\u001B[49m\u001B[43m(\u001B[49m\u001B[43mother\u001B[49m\u001B[43m,\u001B[49m\u001B[43m \u001B[49m\u001B[43msort\u001B[49m\u001B[38;5;241;43m=\u001B[39;49m\u001B[43msort\u001B[49m\u001B[43m)\u001B[49m\n\u001B[1;32m   3449\u001B[0m \u001B[38;5;28;01mreturn\u001B[39;00m \u001B[38;5;28mself\u001B[39m\u001B[38;5;241m.\u001B[39m_wrap_difference_result(other, result)\n",
      "File \u001B[0;32m/usr/local/lib/python3.9/site-packages/pandas/core/indexes/base.py:3456\u001B[0m, in \u001B[0;36mIndex._difference\u001B[0;34m(self, other, sort)\u001B[0m\n\u001B[1;32m   3451\u001B[0m \u001B[38;5;28;01mdef\u001B[39;00m \u001B[38;5;21m_difference\u001B[39m(\u001B[38;5;28mself\u001B[39m, other, sort):\n\u001B[1;32m   3452\u001B[0m     \u001B[38;5;66;03m# overridden by RangeIndex\u001B[39;00m\n\u001B[1;32m   3454\u001B[0m     this \u001B[38;5;241m=\u001B[39m \u001B[38;5;28mself\u001B[39m\u001B[38;5;241m.\u001B[39munique()\n\u001B[0;32m-> 3456\u001B[0m     indexer \u001B[38;5;241m=\u001B[39m \u001B[43mthis\u001B[49m\u001B[38;5;241;43m.\u001B[39;49m\u001B[43mget_indexer_for\u001B[49m\u001B[43m(\u001B[49m\u001B[43mother\u001B[49m\u001B[43m)\u001B[49m\n\u001B[1;32m   3457\u001B[0m     indexer \u001B[38;5;241m=\u001B[39m indexer\u001B[38;5;241m.\u001B[39mtake((indexer \u001B[38;5;241m!=\u001B[39m \u001B[38;5;241m-\u001B[39m\u001B[38;5;241m1\u001B[39m)\u001B[38;5;241m.\u001B[39mnonzero()[\u001B[38;5;241m0\u001B[39m])\n\u001B[1;32m   3459\u001B[0m     label_diff \u001B[38;5;241m=\u001B[39m np\u001B[38;5;241m.\u001B[39msetdiff1d(np\u001B[38;5;241m.\u001B[39marange(this\u001B[38;5;241m.\u001B[39msize), indexer, assume_unique\u001B[38;5;241m=\u001B[39m\u001B[38;5;28;01mTrue\u001B[39;00m)\n",
      "File \u001B[0;32m/usr/local/lib/python3.9/site-packages/pandas/core/indexes/base.py:5764\u001B[0m, in \u001B[0;36mIndex.get_indexer_for\u001B[0;34m(self, target)\u001B[0m\n\u001B[1;32m   5746\u001B[0m \u001B[38;5;124;03m\"\"\"\u001B[39;00m\n\u001B[1;32m   5747\u001B[0m \u001B[38;5;124;03mGuaranteed return of an indexer even when non-unique.\u001B[39;00m\n\u001B[1;32m   5748\u001B[0m \n\u001B[0;32m   (...)\u001B[0m\n\u001B[1;32m   5761\u001B[0m \u001B[38;5;124;03marray([0, 2])\u001B[39;00m\n\u001B[1;32m   5762\u001B[0m \u001B[38;5;124;03m\"\"\"\u001B[39;00m\n\u001B[1;32m   5763\u001B[0m \u001B[38;5;28;01mif\u001B[39;00m \u001B[38;5;28mself\u001B[39m\u001B[38;5;241m.\u001B[39m_index_as_unique:\n\u001B[0;32m-> 5764\u001B[0m     \u001B[38;5;28;01mreturn\u001B[39;00m \u001B[38;5;28;43mself\u001B[39;49m\u001B[38;5;241;43m.\u001B[39;49m\u001B[43mget_indexer\u001B[49m\u001B[43m(\u001B[49m\u001B[43mtarget\u001B[49m\u001B[43m)\u001B[49m\n\u001B[1;32m   5765\u001B[0m indexer, _ \u001B[38;5;241m=\u001B[39m \u001B[38;5;28mself\u001B[39m\u001B[38;5;241m.\u001B[39mget_indexer_non_unique(target)\n\u001B[1;32m   5766\u001B[0m \u001B[38;5;28;01mreturn\u001B[39;00m indexer\n",
      "File \u001B[0;32m/usr/local/lib/python3.9/site-packages/pandas/core/indexes/base.py:3716\u001B[0m, in \u001B[0;36mIndex.get_indexer\u001B[0;34m(self, target, method, limit, tolerance)\u001B[0m\n\u001B[1;32m   3706\u001B[0m \u001B[38;5;129m@Appender\u001B[39m(_index_shared_docs[\u001B[38;5;124m\"\u001B[39m\u001B[38;5;124mget_indexer\u001B[39m\u001B[38;5;124m\"\u001B[39m] \u001B[38;5;241m%\u001B[39m _index_doc_kwargs)\n\u001B[1;32m   3707\u001B[0m \u001B[38;5;129m@final\u001B[39m\n\u001B[1;32m   3708\u001B[0m \u001B[38;5;28;01mdef\u001B[39;00m \u001B[38;5;21mget_indexer\u001B[39m(\n\u001B[0;32m   (...)\u001B[0m\n\u001B[1;32m   3713\u001B[0m     tolerance\u001B[38;5;241m=\u001B[39m\u001B[38;5;28;01mNone\u001B[39;00m,\n\u001B[1;32m   3714\u001B[0m ) \u001B[38;5;241m-\u001B[39m\u001B[38;5;241m>\u001B[39m npt\u001B[38;5;241m.\u001B[39mNDArray[np\u001B[38;5;241m.\u001B[39mintp]:\n\u001B[1;32m   3715\u001B[0m     method \u001B[38;5;241m=\u001B[39m missing\u001B[38;5;241m.\u001B[39mclean_reindex_fill_method(method)\n\u001B[0;32m-> 3716\u001B[0m     target \u001B[38;5;241m=\u001B[39m \u001B[38;5;28;43mself\u001B[39;49m\u001B[38;5;241;43m.\u001B[39;49m\u001B[43m_maybe_cast_listlike_indexer\u001B[49m\u001B[43m(\u001B[49m\u001B[43mtarget\u001B[49m\u001B[43m)\u001B[49m\n\u001B[1;32m   3718\u001B[0m     \u001B[38;5;28mself\u001B[39m\u001B[38;5;241m.\u001B[39m_check_indexing_method(method, limit, tolerance)\n\u001B[1;32m   3720\u001B[0m     \u001B[38;5;28;01mif\u001B[39;00m \u001B[38;5;129;01mnot\u001B[39;00m \u001B[38;5;28mself\u001B[39m\u001B[38;5;241m.\u001B[39m_index_as_unique:\n",
      "File \u001B[0;32m/usr/local/lib/python3.9/site-packages/pandas/core/indexes/datetimelike.py:364\u001B[0m, in \u001B[0;36mDatetimeIndexOpsMixin._maybe_cast_listlike_indexer\u001B[0;34m(self, keyarr)\u001B[0m\n\u001B[1;32m    361\u001B[0m \u001B[38;5;129m@doc\u001B[39m(Index\u001B[38;5;241m.\u001B[39m_maybe_cast_listlike_indexer)\n\u001B[1;32m    362\u001B[0m \u001B[38;5;28;01mdef\u001B[39;00m \u001B[38;5;21m_maybe_cast_listlike_indexer\u001B[39m(\u001B[38;5;28mself\u001B[39m, keyarr):\n\u001B[1;32m    363\u001B[0m     \u001B[38;5;28;01mtry\u001B[39;00m:\n\u001B[0;32m--> 364\u001B[0m         res \u001B[38;5;241m=\u001B[39m \u001B[38;5;28;43mself\u001B[39;49m\u001B[38;5;241;43m.\u001B[39;49m\u001B[43m_data\u001B[49m\u001B[38;5;241;43m.\u001B[39;49m\u001B[43m_validate_listlike\u001B[49m\u001B[43m(\u001B[49m\u001B[43mkeyarr\u001B[49m\u001B[43m,\u001B[49m\u001B[43m \u001B[49m\u001B[43mallow_object\u001B[49m\u001B[38;5;241;43m=\u001B[39;49m\u001B[38;5;28;43;01mTrue\u001B[39;49;00m\u001B[43m)\u001B[49m\n\u001B[1;32m    365\u001B[0m     \u001B[38;5;28;01mexcept\u001B[39;00m (\u001B[38;5;167;01mValueError\u001B[39;00m, \u001B[38;5;167;01mTypeError\u001B[39;00m):\n\u001B[1;32m    366\u001B[0m         \u001B[38;5;28;01mif\u001B[39;00m \u001B[38;5;129;01mnot\u001B[39;00m \u001B[38;5;28misinstance\u001B[39m(keyarr, ExtensionArray):\n\u001B[1;32m    367\u001B[0m             \u001B[38;5;66;03m# e.g. we don't want to cast DTA to ndarray[object]\u001B[39;00m\n",
      "File \u001B[0;32m/usr/local/lib/python3.9/site-packages/pandas/core/arrays/datetimelike.py:711\u001B[0m, in \u001B[0;36mDatetimeLikeArrayMixin._validate_listlike\u001B[0;34m(self, value, allow_object)\u001B[0m\n\u001B[1;32m    706\u001B[0m \u001B[38;5;28;01mif\u001B[39;00m is_all_strings(value):\n\u001B[1;32m    707\u001B[0m     \u001B[38;5;66;03m# We got a StringArray\u001B[39;00m\n\u001B[1;32m    708\u001B[0m     \u001B[38;5;28;01mtry\u001B[39;00m:\n\u001B[1;32m    709\u001B[0m         \u001B[38;5;66;03m# TODO: Could use from_sequence_of_strings if implemented\u001B[39;00m\n\u001B[1;32m    710\u001B[0m         \u001B[38;5;66;03m# Note: passing dtype is necessary for PeriodArray tests\u001B[39;00m\n\u001B[0;32m--> 711\u001B[0m         value \u001B[38;5;241m=\u001B[39m \u001B[38;5;28;43mtype\u001B[39;49m\u001B[43m(\u001B[49m\u001B[38;5;28;43mself\u001B[39;49m\u001B[43m)\u001B[49m\u001B[38;5;241;43m.\u001B[39;49m\u001B[43m_from_sequence\u001B[49m\u001B[43m(\u001B[49m\u001B[43mvalue\u001B[49m\u001B[43m,\u001B[49m\u001B[43m \u001B[49m\u001B[43mdtype\u001B[49m\u001B[38;5;241;43m=\u001B[39;49m\u001B[38;5;28;43mself\u001B[39;49m\u001B[38;5;241;43m.\u001B[39;49m\u001B[43mdtype\u001B[49m\u001B[43m)\u001B[49m\n\u001B[1;32m    712\u001B[0m     \u001B[38;5;28;01mexcept\u001B[39;00m \u001B[38;5;167;01mValueError\u001B[39;00m:\n\u001B[1;32m    713\u001B[0m         \u001B[38;5;28;01mpass\u001B[39;00m\n",
      "File \u001B[0;32m/usr/local/lib/python3.9/site-packages/pandas/core/arrays/period.py:262\u001B[0m, in \u001B[0;36mPeriodArray._from_sequence\u001B[0;34m(cls, scalars, dtype, copy)\u001B[0m\n\u001B[1;32m    259\u001B[0m periods \u001B[38;5;241m=\u001B[39m np\u001B[38;5;241m.\u001B[39masarray(scalars, dtype\u001B[38;5;241m=\u001B[39m\u001B[38;5;28mobject\u001B[39m)\n\u001B[1;32m    261\u001B[0m freq \u001B[38;5;241m=\u001B[39m freq \u001B[38;5;129;01mor\u001B[39;00m libperiod\u001B[38;5;241m.\u001B[39mextract_freq(periods)\n\u001B[0;32m--> 262\u001B[0m ordinals \u001B[38;5;241m=\u001B[39m \u001B[43mlibperiod\u001B[49m\u001B[38;5;241;43m.\u001B[39;49m\u001B[43mextract_ordinals\u001B[49m\u001B[43m(\u001B[49m\u001B[43mperiods\u001B[49m\u001B[43m,\u001B[49m\u001B[43m \u001B[49m\u001B[43mfreq\u001B[49m\u001B[43m)\u001B[49m\n\u001B[1;32m    263\u001B[0m \u001B[38;5;28;01mreturn\u001B[39;00m \u001B[38;5;28mcls\u001B[39m(ordinals, freq\u001B[38;5;241m=\u001B[39mfreq)\n",
      "File \u001B[0;32mpandas/_libs/tslibs/period.pyx:1483\u001B[0m, in \u001B[0;36mpandas._libs.tslibs.period.extract_ordinals\u001B[0;34m()\u001B[0m\n",
      "File \u001B[0;32mpandas/_libs/tslibs/period.pyx:2553\u001B[0m, in \u001B[0;36mpandas._libs.tslibs.period.Period.__new__\u001B[0;34m()\u001B[0m\n",
      "File \u001B[0;32mpandas/_libs/tslibs/parsing.pyx:321\u001B[0m, in \u001B[0;36mpandas._libs.tslibs.parsing.parse_time_string\u001B[0;34m()\u001B[0m\n",
      "File \u001B[0;32mpandas/_libs/tslibs/parsing.pyx:362\u001B[0m, in \u001B[0;36mpandas._libs.tslibs.parsing.parse_datetime_string_with_reso\u001B[0;34m()\u001B[0m\n",
      "File \u001B[0;32mpandas/_libs/tslibs/parsing.pyx:567\u001B[0m, in \u001B[0;36mpandas._libs.tslibs.parsing.dateutil_parse\u001B[0;34m()\u001B[0m\n",
      "File \u001B[0;32m/usr/local/lib/python3.9/site-packages/dateutil/parser/_parser.py:740\u001B[0m, in \u001B[0;36mparser._parse\u001B[0;34m(self, timestr, dayfirst, yearfirst, fuzzy, fuzzy_with_tokens)\u001B[0m\n\u001B[1;32m    736\u001B[0m     value \u001B[38;5;241m=\u001B[39m \u001B[38;5;28;01mNone\u001B[39;00m\n\u001B[1;32m    738\u001B[0m \u001B[38;5;28;01mif\u001B[39;00m value \u001B[38;5;129;01mis\u001B[39;00m \u001B[38;5;129;01mnot\u001B[39;00m \u001B[38;5;28;01mNone\u001B[39;00m:\n\u001B[1;32m    739\u001B[0m     \u001B[38;5;66;03m# Numeric token\u001B[39;00m\n\u001B[0;32m--> 740\u001B[0m     i \u001B[38;5;241m=\u001B[39m \u001B[38;5;28;43mself\u001B[39;49m\u001B[38;5;241;43m.\u001B[39;49m\u001B[43m_parse_numeric_token\u001B[49m\u001B[43m(\u001B[49m\u001B[43ml\u001B[49m\u001B[43m,\u001B[49m\u001B[43m \u001B[49m\u001B[43mi\u001B[49m\u001B[43m,\u001B[49m\u001B[43m \u001B[49m\u001B[43minfo\u001B[49m\u001B[43m,\u001B[49m\u001B[43m \u001B[49m\u001B[43mymd\u001B[49m\u001B[43m,\u001B[49m\u001B[43m \u001B[49m\u001B[43mres\u001B[49m\u001B[43m,\u001B[49m\u001B[43m \u001B[49m\u001B[43mfuzzy\u001B[49m\u001B[43m)\u001B[49m\n\u001B[1;32m    742\u001B[0m \u001B[38;5;66;03m# Check weekday\u001B[39;00m\n\u001B[1;32m    743\u001B[0m \u001B[38;5;28;01melif\u001B[39;00m info\u001B[38;5;241m.\u001B[39mweekday(l[i]) \u001B[38;5;129;01mis\u001B[39;00m \u001B[38;5;129;01mnot\u001B[39;00m \u001B[38;5;28;01mNone\u001B[39;00m:\n",
      "File \u001B[0;32m/usr/local/lib/python3.9/site-packages/dateutil/parser/_parser.py:929\u001B[0m, in \u001B[0;36mparser._parse_numeric_token\u001B[0;34m(self, tokens, idx, info, ymd, res, fuzzy)\u001B[0m\n\u001B[1;32m    926\u001B[0m         \u001B[38;5;28;01mif\u001B[39;00m len_li \u001B[38;5;241m>\u001B[39m \u001B[38;5;241m12\u001B[39m:\n\u001B[1;32m    927\u001B[0m             res\u001B[38;5;241m.\u001B[39msecond \u001B[38;5;241m=\u001B[39m \u001B[38;5;28mint\u001B[39m(s[\u001B[38;5;241m12\u001B[39m:])\n\u001B[0;32m--> 929\u001B[0m \u001B[38;5;28;01melif\u001B[39;00m \u001B[38;5;28;43mself\u001B[39;49m\u001B[38;5;241;43m.\u001B[39;49m\u001B[43m_find_hms_idx\u001B[49m\u001B[43m(\u001B[49m\u001B[43midx\u001B[49m\u001B[43m,\u001B[49m\u001B[43m \u001B[49m\u001B[43mtokens\u001B[49m\u001B[43m,\u001B[49m\u001B[43m \u001B[49m\u001B[43minfo\u001B[49m\u001B[43m,\u001B[49m\u001B[43m \u001B[49m\u001B[43mallow_jump\u001B[49m\u001B[38;5;241;43m=\u001B[39;49m\u001B[38;5;28;43;01mTrue\u001B[39;49;00m\u001B[43m)\u001B[49m \u001B[38;5;129;01mis\u001B[39;00m \u001B[38;5;129;01mnot\u001B[39;00m \u001B[38;5;28;01mNone\u001B[39;00m:\n\u001B[1;32m    930\u001B[0m     \u001B[38;5;66;03m# HH[ ]h or MM[ ]m or SS[.ss][ ]s\u001B[39;00m\n\u001B[1;32m    931\u001B[0m     hms_idx \u001B[38;5;241m=\u001B[39m \u001B[38;5;28mself\u001B[39m\u001B[38;5;241m.\u001B[39m_find_hms_idx(idx, tokens, info, allow_jump\u001B[38;5;241m=\u001B[39m\u001B[38;5;28;01mTrue\u001B[39;00m)\n\u001B[1;32m    932\u001B[0m     (idx, hms) \u001B[38;5;241m=\u001B[39m \u001B[38;5;28mself\u001B[39m\u001B[38;5;241m.\u001B[39m_parse_hms(idx, tokens, info, hms_idx)\n",
      "File \u001B[0;32m/usr/local/lib/python3.9/site-packages/dateutil/parser/_parser.py:1009\u001B[0m, in \u001B[0;36mparser._find_hms_idx\u001B[0;34m(self, idx, tokens, info, allow_jump)\u001B[0m\n\u001B[1;32m   1006\u001B[0m \u001B[38;5;28;01mdef\u001B[39;00m \u001B[38;5;21m_find_hms_idx\u001B[39m(\u001B[38;5;28mself\u001B[39m, idx, tokens, info, allow_jump):\n\u001B[1;32m   1007\u001B[0m     len_l \u001B[38;5;241m=\u001B[39m \u001B[38;5;28mlen\u001B[39m(tokens)\n\u001B[0;32m-> 1009\u001B[0m     \u001B[38;5;28;01mif\u001B[39;00m idx\u001B[38;5;241m+\u001B[39m\u001B[38;5;241m1\u001B[39m \u001B[38;5;241m<\u001B[39m len_l \u001B[38;5;129;01mand\u001B[39;00m \u001B[43minfo\u001B[49m\u001B[38;5;241;43m.\u001B[39;49m\u001B[43mhms\u001B[49m\u001B[43m(\u001B[49m\u001B[43mtokens\u001B[49m\u001B[43m[\u001B[49m\u001B[43midx\u001B[49m\u001B[38;5;241;43m+\u001B[39;49m\u001B[38;5;241;43m1\u001B[39;49m\u001B[43m]\u001B[49m\u001B[43m)\u001B[49m \u001B[38;5;129;01mis\u001B[39;00m \u001B[38;5;129;01mnot\u001B[39;00m \u001B[38;5;28;01mNone\u001B[39;00m:\n\u001B[1;32m   1010\u001B[0m         \u001B[38;5;66;03m# There is an \"h\", \"m\", or \"s\" label following this token.  We take\u001B[39;00m\n\u001B[1;32m   1011\u001B[0m         \u001B[38;5;66;03m# assign the upcoming label to the current token.\u001B[39;00m\n\u001B[1;32m   1012\u001B[0m         \u001B[38;5;66;03m# e.g. the \"12\" in 12h\"\u001B[39;00m\n\u001B[1;32m   1013\u001B[0m         hms_idx \u001B[38;5;241m=\u001B[39m idx \u001B[38;5;241m+\u001B[39m \u001B[38;5;241m1\u001B[39m\n\u001B[1;32m   1015\u001B[0m     \u001B[38;5;28;01melif\u001B[39;00m (allow_jump \u001B[38;5;129;01mand\u001B[39;00m idx\u001B[38;5;241m+\u001B[39m\u001B[38;5;241m2\u001B[39m \u001B[38;5;241m<\u001B[39m len_l \u001B[38;5;129;01mand\u001B[39;00m tokens[idx\u001B[38;5;241m+\u001B[39m\u001B[38;5;241m1\u001B[39m] \u001B[38;5;241m==\u001B[39m \u001B[38;5;124m'\u001B[39m\u001B[38;5;124m \u001B[39m\u001B[38;5;124m'\u001B[39m \u001B[38;5;129;01mand\u001B[39;00m\n\u001B[1;32m   1016\u001B[0m           info\u001B[38;5;241m.\u001B[39mhms(tokens[idx\u001B[38;5;241m+\u001B[39m\u001B[38;5;241m2\u001B[39m]) \u001B[38;5;129;01mis\u001B[39;00m \u001B[38;5;129;01mnot\u001B[39;00m \u001B[38;5;28;01mNone\u001B[39;00m):\n\u001B[1;32m   1017\u001B[0m         \u001B[38;5;66;03m# There is a space and then an \"h\", \"m\", or \"s\" label.\u001B[39;00m\n\u001B[1;32m   1018\u001B[0m         \u001B[38;5;66;03m# e.g. the \"12\" in \"12 h\"\u001B[39;00m\n",
      "File \u001B[0;32m/usr/local/lib/python3.9/site-packages/dateutil/parser/_parser.py:338\u001B[0m, in \u001B[0;36mparserinfo.hms\u001B[0;34m(self, name)\u001B[0m\n\u001B[1;32m    336\u001B[0m \u001B[38;5;28;01mdef\u001B[39;00m \u001B[38;5;21mhms\u001B[39m(\u001B[38;5;28mself\u001B[39m, name):\n\u001B[1;32m    337\u001B[0m     \u001B[38;5;28;01mtry\u001B[39;00m:\n\u001B[0;32m--> 338\u001B[0m         \u001B[38;5;28;01mreturn\u001B[39;00m \u001B[38;5;28mself\u001B[39m\u001B[38;5;241m.\u001B[39m_hms[\u001B[43mname\u001B[49m\u001B[38;5;241;43m.\u001B[39;49m\u001B[43mlower\u001B[49m\u001B[43m(\u001B[49m\u001B[43m)\u001B[49m]\n\u001B[1;32m    339\u001B[0m     \u001B[38;5;28;01mexcept\u001B[39;00m \u001B[38;5;167;01mKeyError\u001B[39;00m:\n\u001B[1;32m    340\u001B[0m         \u001B[38;5;28;01mreturn\u001B[39;00m \u001B[38;5;28;01mNone\u001B[39;00m\n",
      "\u001B[0;31mKeyboardInterrupt\u001B[0m: "
     ]
    }
   ],
   "source": [
    "for file in files:\n",
    "    print(\"Checking \" + file)\n",
    "    df = pd.read_csv(filepath + file)\n",
    "    df[\"valid\"] = df[\"valid\"].apply(lambda x : x[:10])\n",
    "    missing_dates = pd.period_range(start='2012-01', end='2021-12', freq='M').difference(df[\"valid\"])\n",
    "\n",
    "    if missing_dates.size > 0:\n",
    "        print(file + \":\", missing_dates.values)\n",
    "    else:\n",
    "        print(file + \": no missing data\")"
   ],
   "metadata": {
    "collapsed": false,
    "pycharm": {
     "name": "#%%\n"
    }
   }
  }
 ],
 "metadata": {
  "kernelspec": {
   "display_name": "Python 3",
   "language": "python",
   "name": "python3"
  },
  "language_info": {
   "codemirror_mode": {
    "name": "ipython",
    "version": 2
   },
   "file_extension": ".py",
   "mimetype": "text/x-python",
   "name": "python",
   "nbconvert_exporter": "python",
   "pygments_lexer": "ipython2",
   "version": "2.7.6"
  }
 },
 "nbformat": 4,
 "nbformat_minor": 0
}